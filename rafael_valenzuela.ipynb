{
 "cells": [
  {
   "cell_type": "markdown",
   "metadata": {},
   "source": [
    "# Description\n",
    "In this proposal, we have empirically taken our basket of ESG Investments with two different risk-based allocations Equally Weighted (EW) and Minimum Volatility (MV). The idea of this multi- allocation is to test which can offer a better risk-performance for our basket considering the period.\n",
    "\n",
    "The back-testing setup considers 146 monthly periods that correspond from 10.2007 to 03.2020. It is essential to mention that the asset allocation process is rebalanced monthly and considered as in-sample-data 50 months for the asset allocation process as well. The process was automatized by the software Jupyther-Python. All portfolios are long-only and full invested. \n",
    "\n"
   ]
  },
  {
   "cell_type": "markdown",
   "metadata": {},
   "source": [
    "# Minimum Volatility\n",
    "The literature define as the Global Minimum Volatility Portfolio that a professional investor can get in the efficient frontier finding the portfolio with the lowest volatility.\n",
    "\n",
    "In this structured product, we found it more useful to see the portfolio allocation with which we can get the lowest volatility by defining a certain return target instead of finding an optimal portfolio that minimizes the volatility.\n"
   ]
  },
  {
   "cell_type": "markdown",
   "metadata": {},
   "source": [
    "# How the code works?\n",
    "Well, you just need to upload the direction of the file called \"Prices_Monthly\". I dowloaded the monthly prices of 77 ESG Assets from Reuters (I had attached this excel as well)."
   ]
  },
  {
   "cell_type": "markdown",
   "metadata": {},
   "source": [
    "# Main Modules"
   ]
  },
  {
   "cell_type": "code",
   "execution_count": null,
   "metadata": {},
   "outputs": [],
   "source": [
    "%load_ext autoreload\n",
    "%autoreload 2\n",
    "%matplotlib inline \n",
    "import numpy as np\n",
    "import pandas as pd\n",
    "import matplotlib.pyplot as plt\n",
    "from scipy.stats import kurtosis, skew\n",
    "from scipy.optimize import minimize"
   ]
  },
  {
   "cell_type": "markdown",
   "metadata": {},
   "source": [
    "# Function Minimize Volatility"
   ]
  },
  {
   "cell_type": "code",
   "execution_count": 262,
   "metadata": {},
   "outputs": [],
   "source": [
    "def minimize_vol(target_return, er, cov):\n",
    "    \"\"\"from a target return to a weight vector\"\"\"\n",
    "    n = er.shape[0]\n",
    "    init_guess= np.repeat(1/n, n) #started point equally weighted\n",
    "    bounds= ((0.0, 0.15),)*n #defined the bounds of each asset between 0 as a min. and 15% max weights\n",
    "    return_is_target= {\n",
    "        'type': 'eq',\n",
    "        'args': (er,),\n",
    "        'fun': lambda weights, er: target_return - portfolio_return(weights,er) #defining the contrainst that  Target return -E(r)=0\n",
    "    }\n",
    "    weights_sum_to_1 = {\n",
    "        'type': 'eq',\n",
    "        'fun': lambda weights: np.sum(weights)-1 #defining the contrainst that sum(weights)-1=0\n",
    "    }\n",
    "    results = minimize(portfolio_vol, init_guess,  # min the vol of the portfolio with the restrictions defined in the code above\n",
    "                       args=(cov,),method= \"SLSQP\",\n",
    "                       options={'disp': False},\n",
    "                       constraints= (return_is_target, weights_sum_to_1),\n",
    "                       bounds=bounds\n",
    "                      ) \n",
    "    return results.x\n",
    "\n",
    "def portfolio_vol(weights, covmat): #return the volatility of the porftolio given the parameter weights and cov\n",
    "    return (np.dot(np.dot(weights.T, covmat),weights))**0.5\n",
    "\n",
    "def portfolio_return(weights, returns): #returns the portfolio return given the weights and returns as a parameter\n",
    "    return np.dot(weights.T, returns)"
   ]
  },
  {
   "cell_type": "markdown",
   "metadata": {},
   "source": [
    "# Main Code"
   ]
  },
  {
   "cell_type": "code",
   "execution_count": 264,
   "metadata": {},
   "outputs": [],
   "source": [
    "num_in_sample=50 #generating the optimal weights based on 50 months data\n",
    "ind= pd.read_csv('C:/Users/Rafael/data/Prices_Monthly.csv', header=0, index_col=0) \n",
    "#ATTENTION: here you just need to upload the direction of the file \"Prices_Monthly\" I took it from Reuters\n",
    "\n",
    "ret_ew_hist=[] # I defined these lists because I wanna get the historical returns & weights of the two asset allocation\n",
    "wgt_minVol_hist=[]\n",
    "ret_minVol_hist=[]\n",
    "w_ew=1.0/77 #for equally weighted portfolio\n",
    "\n",
    "for i in range(num_in_sample,len(ind)+1): \n",
    "    #this for gives me the alternative to do a dynamic asset allocation through 50 months for each iteration\n",
    "    start_point=i-num_in_sample\n",
    "    dynamic_data=ind[start_point: i]\n",
    "    cov= dynamic_data.cov()\n",
    "    er = dynamic_data.mean()\n",
    "    \n",
    "    w15= minimize_vol(0.015, er, cov)# I defined a target of 1.5% return\n",
    "    wgt_minVol_hist= np.append(wgt_minVol_hist, w15)  #adding rows to the historic array\n",
    "    \n",
    "  \n",
    "    #once we have the optimal weights in t, we will test the asset allocation obtained in t+1 using the returns in t+1.\n",
    "    returns_plusone=ind[i:i+1]\n",
    "    \n",
    "    \n",
    "    portfolio_return_ew= (w_ew*returns_plusone)\n",
    "    portfolio_return_ew= portfolio_return_ew.sum(axis=1)\n",
    "    portfolio_return_minVol= (w15*returns_plusone)\n",
    "    portfolio_return_minVol= portfolio_return_minVol.sum(axis=1)\n",
    "    \n",
    "    \n",
    "    ret_ew_hist= np.append(ret_ew_hist, portfolio_return_ew)  #adding rows to the historic array\n",
    "    ret_minVol_hist= np.append(ret_minVol_hist,portfolio_return_minVol)\n",
    "\n",
    "\n",
    "    \n",
    "    \n",
    "    \n",
    "    \n",
    "   \n"
   ]
  },
  {
   "cell_type": "markdown",
   "metadata": {},
   "source": [
    "\n",
    "\n",
    "# WEALTH INDEX & RISK MEASURES\n",
    "\n",
    "\n"
   ]
  },
  {
   "cell_type": "code",
   "execution_count": 265,
   "metadata": {},
   "outputs": [
    {
     "name": "stdout",
     "output_type": "stream",
     "text": [
      "0.406932710216\n",
      "0.293498003788\n",
      "-0.319153007781\n",
      "-0.490748705487\n",
      "0.044998390331141905\n",
      "0.04173526209847986\n",
      "0.007000731383313658\n",
      "0.007378713123297129\n"
     ]
    }
   ],
   "source": [
    "#calculating the index wealth\n",
    "wealth_index_ew= 1000*(1+ret_ew_hist).cumprod()\n",
    "\n",
    "wealth_index_MinVol= 1000*(1+ret_minVol_hist).cumprod()\n",
    "\n",
    "#risk measures\n",
    "print kurtosis(ret_ew_hist)\n",
    "print kurtosis(ret_minVol_hist)\n",
    "print skew(ret_ew_hist)\n",
    "print skew(ret_minVol_hist)\n",
    "print ret_ew_hist.std()\n",
    "print ret_minVol_hist.std()\n",
    "print ret_ew_hist.mean()\n",
    "print ret_minVol_hist.mean()\n",
    "\n",
    "\n",
    "    "
   ]
  },
  {
   "cell_type": "markdown",
   "metadata": {},
   "source": [
    "# Code for fancy plots\n"
   ]
  },
  {
   "cell_type": "code",
   "execution_count": 266,
   "metadata": {},
   "outputs": [
    {
     "data": {
      "image/png": "[encoded data removed]",
      "text/plain": [
       "<Figure size 432x288 with 1 Axes>"
      ]
     },
     "metadata": {
      "needs_background": "light"
     },
     "output_type": "display_data"
    }
   ],
   "source": [
    "plt.plot(wealth_index_ew, label=\"Equally Weighted\") \n",
    "plt.plot(wealth_index_MinVol, label= \"Min Volatility\")\n",
    "plt.title('Wealth Evolution')\n",
    "plt.legend(loc=\"upper left\")\n",
    "plt.show()\n"
   ]
  },
  {
   "cell_type": "code",
   "execution_count": null,
   "metadata": {},
   "outputs": [],
   "source": []
  }
 ],
 "metadata": {
  "kernelspec": {
   "display_name": "Python 2",
   "language": "python",
   "name": "python2"
  },
  "language_info": {
   "codemirror_mode": {
    "name": "ipython",
    "version": 2
   },
   "file_extension": ".py",
   "mimetype": "text/x-python",
   "name": "python",
   "nbconvert_exporter": "python",
   "pygments_lexer": "ipython2",
   "version": "2.7.16"
  }
 },
 "nbformat": 4,
 "nbformat_minor": 2
}
